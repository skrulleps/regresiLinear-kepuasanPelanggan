{
 "cells": [
  {
   "cell_type": "code",
   "execution_count": 3,
   "id": "bc5a1fc4",
   "metadata": {},
   "outputs": [
    {
     "name": "stdout",
     "output_type": "stream",
     "text": [
      "    ID Pelanggan     Nama  Jenis Kelamin  Pendapatan Produk   Harga  Jumlah   \\\n",
      "0              1     Arif              1      600000      A  100000        4   \n",
      "1              2     Dian              2     1200000      D  250000        4   \n",
      "2              3    Dinda              2      950000      D  250000        3   \n",
      "3              4    Fajar              1      400000      A  100000        2   \n",
      "4              5      Ika              2     1200000      D  250000        4   \n",
      "5              6    Ilham              1      800000      B  150000        4   \n",
      "6              7    Indra              1      950000      B  150000        5   \n",
      "7              8  Kartika              2     1100000      E  300000        3   \n",
      "8              9  Lestari              2      800000      E  300000        2   \n",
      "9             10      Lia              2     1700000      E  300000        5   \n",
      "10            11    Maria              2      600000      A  100000        4   \n",
      "11            12     Maya              2      950000      B  150000        5   \n",
      "12            13     Mila              2      400000      C  200000        1   \n",
      "13            14    Nurul              2     6450000      D  250000        5   \n",
      "14            15    Retno              2     1000000      C  200000        4   \n",
      "15            16     Rini              2      800000      B  150000        4   \n",
      "16            17    Rizki              1     1200000      C  200000        5   \n",
      "17            18     Sari              2      700000      D  250000        2   \n",
      "18            19     Tyas              2      600000      A  100000        4   \n",
      "19            20    Wahyu              1      800000      C  200000        3   \n",
      "\n",
      "      Total  Tingkat Kepuasan  \n",
      "0    400000                 2  \n",
      "1   1000000                 2  \n",
      "2    750000                 3  \n",
      "3    200000                 3  \n",
      "4   1000000                 2  \n",
      "5    600000                 3  \n",
      "6    750000                 1  \n",
      "7    900000                 3  \n",
      "8    600000                 1  \n",
      "9   1500000                 1  \n",
      "10   400000                 3  \n",
      "11   750000                 3  \n",
      "12   200000                 2  \n",
      "13  1250000                 1  \n",
      "14   800000                 2  \n",
      "15   600000                 1  \n",
      "16  1000000                 3  \n",
      "17   500000                 1  \n",
      "18   400000                 3  \n",
      "19   600000                 1  \n"
     ]
    }
   ],
   "source": [
    "import pandas as pd\n",
    "import statsmodels.api as sm\n",
    "\n",
    "raw_data = pd.read_csv(\"data/dataset_statistic.csv\", sep=';')\n",
    "print(raw_data)"
   ]
  },
  {
   "cell_type": "markdown",
   "id": "a66c09cc",
   "metadata": {},
   "source": [
    "Mengambil variabel 'Total' sebagai variabel tak bebas dan variabel 'Pendapatan' sebagai variabel bebas. Untuk menambahkan membentuk model yang disertai dengan intercept, kita harus menggunakan method .add_constant() untuk variabel bebas :"
   ]
  },
  {
   "cell_type": "code",
   "execution_count": null,
   "id": "f091845e",
   "metadata": {},
   "outputs": [],
   "source": [
    "# Variabel tak bebas \n",
    "nilai_Y = raw_data[['Total']]\n",
    "\n",
    "# variabel bebas\n",
    "nilai_X = sm.add_constant(raw_data[['Pendapatan']])"
   ]
  },
  {
   "cell_type": "markdown",
   "id": "ef9bdee1",
   "metadata": {},
   "source": [
    "gunakan method .OLS untuk membuat model regresi linier sederhana dengan memasukkan parameter endog=variabel_tak_bebas dan exog=variabel_bebas, disambung dengan method .fit():"
   ]
  },
  {
   "cell_type": "code",
   "execution_count": 5,
   "id": "d78df44d",
   "metadata": {},
   "outputs": [
    {
     "name": "stdout",
     "output_type": "stream",
     "text": [
      "                            OLS Regression Results                            \n",
      "==============================================================================\n",
      "Dep. Variable:                  Total   R-squared:                       0.351\n",
      "Model:                            OLS   Adj. R-squared:                  0.314\n",
      "Method:                 Least Squares   F-statistic:                     9.714\n",
      "Date:                Wed, 27 Aug 2025   Prob (F-statistic):            0.00596\n",
      "Time:                        09:10:07   Log-Likelihood:                -277.92\n",
      "No. Observations:                  20   AIC:                             559.8\n",
      "Df Residuals:                      18   BIC:                             561.8\n",
      "Df Model:                           1                                         \n",
      "Covariance Type:            nonrobust                                         \n",
      "==============================================================================\n",
      "                 coef    std err          t      P>|t|      [0.025      0.975]\n",
      "------------------------------------------------------------------------------\n",
      "const       5.313e+05   8.43e+04      6.300      0.000    3.54e+05    7.08e+05\n",
      "Pendapatan     0.1541      0.049      3.117      0.006       0.050       0.258\n",
      "==============================================================================\n",
      "Omnibus:                        3.582   Durbin-Watson:                   2.516\n",
      "Prob(Omnibus):                  0.167   Jarque-Bera (JB):                1.859\n",
      "Skew:                           0.702   Prob(JB):                        0.395\n",
      "Kurtosis:                       3.511   Cond. No.                     2.33e+06\n",
      "==============================================================================\n",
      "\n",
      "Notes:\n",
      "[1] Standard Errors assume that the covariance matrix of the errors is correctly specified.\n",
      "[2] The condition number is large, 2.33e+06. This might indicate that there are\n",
      "strong multicollinearity or other numerical problems.\n"
     ]
    }
   ],
   "source": [
    "# membuat model regresi linier \n",
    "model_regresi = sm.OLS(endog=nilai_Y, exog=nilai_X).fit()\n",
    "\n",
    "# melihat hasil dari modeldengan menggunakan .summary()\n",
    "print(model_regresi.summary())"
   ]
  }
 ],
 "metadata": {
  "kernelspec": {
   "display_name": "env",
   "language": "python",
   "name": "python3"
  },
  "language_info": {
   "codemirror_mode": {
    "name": "ipython",
    "version": 3
   },
   "file_extension": ".py",
   "mimetype": "text/x-python",
   "name": "python",
   "nbconvert_exporter": "python",
   "pygments_lexer": "ipython3",
   "version": "3.10.6"
  }
 },
 "nbformat": 4,
 "nbformat_minor": 5
}
